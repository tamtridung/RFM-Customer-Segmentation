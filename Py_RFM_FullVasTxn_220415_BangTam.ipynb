{
 "cells": [
  {
   "cell_type": "code",
   "execution_count": 1,
   "metadata": {},
   "outputs": [],
   "source": [
    "import pandas as pd\n",
    "import warnings\n",
    "import numpy as np\n",
    "\n",
    "warnings.filterwarnings(\"ignore\")\n",
    "np.set_printoptions(linewidth=1000000)\n",
    "\n",
    "pd.options.display.float_format = \"{:.2f}\".format\n",
    "pd.set_option(\"display.max_rows\", None, \"display.max_columns\", None)"
   ]
  },
  {
   "cell_type": "code",
   "execution_count": 2,
   "metadata": {},
   "outputs": [],
   "source": [
    "import pyodbc\n",
    "cnxn = pyodbc.connect(\"DRIVER={SQL Server Native Client 11.0};\"\n",
    "                      \"SERVER=10.22.2.62\\VHDVTT;\"\n",
    "                      \"DATABASE=VNPAYEWT1;\"\n",
    "                      \"Trusted_Connection=yes;\")\n",
    "\n",
    "vastxn = pd.read_sql_query(\"select * from  [VNPAYEWT1].[dbo].[ALLTIME_VAS_TXN]\", cnxn)\n",
    "\n"
   ]
  },
  {
   "cell_type": "code",
   "execution_count": 4,
   "metadata": {},
   "outputs": [],
   "source": [
    "# Loc ra nhung TXN thanh cong của SDK và GD bình thường:\n",
    "sdk_txn = vastxn.loc[(vastxn['STATUS'] == '2') & (vastxn['TXN_TYPE'] == 22), :]\n",
    "nonsdk_txn = vastxn.loc[(vastxn['STATUS'] == '4') & (vastxn['TXN_TYPE'] != 22), :]\n",
    "vastxn_tc = pd.concat([sdk_txn, nonsdk_txn])\n"
   ]
  },
  {
   "cell_type": "markdown",
   "metadata": {},
   "source": [
    "# RFM FOR VAS_TXN ALLTIME\n"
   ]
  },
  {
   "cell_type": "markdown",
   "metadata": {},
   "source": [
    "### Tinh Segment cho tung quy"
   ]
  },
  {
   "cell_type": "code",
   "execution_count": 6,
   "metadata": {},
   "outputs": [],
   "source": [
    "seg_map = {r'555': 'Champions',\n",
    "           r'[3-5][4-5][1-5]': 'Loyal Customers', # Điều chỉnh monetary 1-5\n",
    "           r'[1-2][4-5][1-5]': 'Losing Loyal Customers', # đối với trường hợp 1-2\n",
    "           r'[4-5][2-3][2-3]': 'Promissing',\n",
    "           r'411': 'Warm Leads', \n",
    "           r'311': 'Cold Leads',\n",
    "           r'[1-2][1-3][4-5]': \"Losing Big spenders\", # => chuyển từ \"Shouldn't lose\" => \"Losing Big spenders\"\n",
    "           r'[1-2]3[3-4]': \"Sleepers\",\n",
    "           r'[3-5][1-3][4-5]': 'Big Spender', #=> thêm phần này: là những khách hàng chịu chi tiêu nhiều\n",
    "           r'[1-2][1-2][1-2]': 'Lost',\n",
    "           r'[4-5][1-3][1-3]': 'Recent Customers', # đối với các khách hàng có recency cao => mới  giao dịch => khách hàng mới\n",
    "           r'[1-3][1-3][1-3]': 'Need Attention'} # là các trường hợp có điểm 3 trong 3 chữ số\n"
   ]
  },
  {
   "cell_type": "code",
   "execution_count": 7,
   "metadata": {},
   "outputs": [
    {
     "data": {
      "text/plain": [
       "Timestamp('2020-04-01 00:00:00')"
      ]
     },
     "execution_count": 7,
     "metadata": {},
     "output_type": "execute_result"
    }
   ],
   "source": [
    "pd.to_datetime(vastxn_tc['CREATED_DATE'].dt.date.min())"
   ]
  },
  {
   "cell_type": "code",
   "execution_count": 8,
   "metadata": {},
   "outputs": [
    {
     "data": {
      "text/plain": [
       "[Timestamp('2020-04-01 00:00:00'),\n",
       " Timestamp('2020-06-30 00:00:00'),\n",
       " Timestamp('2020-09-30 00:00:00'),\n",
       " Timestamp('2020-12-31 00:00:00'),\n",
       " Timestamp('2021-03-31 00:00:00'),\n",
       " Timestamp('2021-06-30 00:00:00'),\n",
       " Timestamp('2021-09-30 00:00:00'),\n",
       " Timestamp('2021-12-31 00:00:00'),\n",
       " Timestamp('2022-03-31 00:00:00')]"
      ]
     },
     "execution_count": 8,
     "metadata": {},
     "output_type": "execute_result"
    }
   ],
   "source": [
    "# Mình sẽ lấy các mốc thời gian kết thúc của quý và tính segment ngược về trước.\n",
    "\n",
    "# Helper function này sẽ lấy ngày cuối cùng từng quý trong các năm của data\n",
    "def get_eoq(dataframe):\n",
    "    '''\n",
    "    Function để lấy ra những ngày cuối cùng của mỗi quý giao dịch. \n",
    "    Thông tin lấy từ trường CREATED_DATE trong bảng vas_txn\n",
    "\n",
    "    Return là 1 list timestamp những ngày cuối cùng của mỗi quý giao dịch\n",
    "    '''\n",
    "    years = list(dataframe['CREATED_DATE'].dt.year.unique())\n",
    "    years.sort()\n",
    "    eoq_dates = ['-03-31', '-06-30', '-09-30', '-12-31']\n",
    "    eoq_list = []\n",
    "    eoq_list.append(pd.to_datetime(dataframe['CREATED_DATE'].dt.date.min()))\n",
    "    for year in years:\n",
    "        for eoq_date in eoq_dates:\n",
    "            eoq = pd.to_datetime(str(year) + eoq_date)\n",
    "            if eoq < dataframe['CREATED_DATE'].max() and (dataframe['CREATED_DATE'] <= eoq).sum() > 0:\n",
    "                eoq_list.append(pd.to_datetime(str(year) + eoq_date))\n",
    "    return eoq_list\n",
    "\n",
    "eoq_dates = get_eoq(vastxn_tc)\n",
    "eoq_dates"
   ]
  },
  {
   "cell_type": "code",
   "execution_count": 9,
   "metadata": {},
   "outputs": [],
   "source": [
    "def rfm_generator(txn_df):\n",
    "    '''\n",
    "    Function này dùng để tính toán các chỉ số RFM và mapping các segment cho các chỉ số đấy.\n",
    "    Đầu vào là dataframe chứa các GD thành công, với yêu cầu phải có các trường:\n",
    "        + CREATED_DATE  - [datetime]    - Thời điểm phát sinh GD thành công\n",
    "        + TXN_ID        - [any format]  - ID của GD\n",
    "        + AMOUNT        - [int]         - Số tiền GD\n",
    "        + USER_MAP_ID   - [string]      - ID của KH\n",
    "    \n",
    "    Return: Dataframe chứa các trường: USER_MAP_ID, SEGMENT, R_SCORE, F_SCORE, M_SCORE\n",
    "    '''\n",
    "    # Define threshold:\n",
    "    r_bins = [-1, 16, 34, 54, 72, 100000000]\n",
    "    f_bins = [-1, 3, 8, 18, 38, 100000000]\n",
    "    m_bins = [-1, 664375, 2766000, 6610000, 12106000, 10000000000000]\n",
    "    \n",
    "    # Get max txn date:\n",
    "    max_txn_date = txn_df['CREATED_DATE'].max()\n",
    "\n",
    "    # Calculating RFM\n",
    "    rfm_q = txn_df.groupby('USER_MAP_ID').agg({\n",
    "        'CREATED_DATE': lambda thoi_gian_gd: (max_txn_date - thoi_gian_gd.max()).days,    # Calculating recency\n",
    "        'TXN_ID': 'count',                                                             # Calculating frequency\n",
    "        'AMOUNT': lambda sotienthanhtoan: round(sotienthanhtoan.mean(), 0)  # Calculating monetary    \n",
    "    }).reset_index()\n",
    "    # Rename columns:\n",
    "    rfm_q.columns = ['USER_MAP_ID', 'recency', 'frequency', 'monetary']\n",
    "\n",
    "    ###### SCORING:\n",
    "    # Scoring recency:\n",
    "    rfm_q['R_SCORE'] = pd.cut(rfm_q['recency'], r_bins ,labels=[5, 4, 3, 2, 1])\n",
    "\n",
    "    # Scoring frequency:\n",
    "    rfm_q['F_SCORE'] = pd.cut(rfm_q['frequency'], f_bins ,labels=[1, 2, 3, 4, 5])\n",
    "\n",
    "    # Scoring monetary:\n",
    "    rfm_q['M_SCORE'] = pd.cut(rfm_q['monetary'], m_bins ,labels=[1, 2, 3, 4, 5])\n",
    "\n",
    "    ###### SEGMENTATION MAPPING \n",
    "    rfm_q['rfm_score'] = rfm_q.R_SCORE.astype('str') + rfm_q.F_SCORE.astype('str') + rfm_q.M_SCORE.astype('str')\n",
    "    rfm_q['SEGMENT'] = rfm_q['rfm_score'].replace(seg_map, regex=True)\n",
    "\n",
    "    return rfm_q\n",
    "\n"
   ]
  },
  {
   "cell_type": "code",
   "execution_count": 10,
   "metadata": {},
   "outputs": [
    {
     "name": "stdout",
     "output_type": "stream",
     "text": [
      "0 2020Q2 done\n",
      "1 2020Q3 done\n",
      "2 2020Q4 done\n",
      "3 2021Q1 done\n",
      "4 2021Q2 done\n",
      "5 2021Q3 done\n",
      "6 2021Q4 done\n",
      "7 2022Q1 done\n",
      "8 Q-UPDATED done\n"
     ]
    }
   ],
   "source": [
    "# Lặp qua các quý => cắt dữ liệu GD của từng quý => tính toán RFM và segment \n",
    "# => lưu kết quả tính toán vào trong 1 dictionary\n",
    "quater_seg_dict = {}\n",
    "for i, eoq in enumerate(eoq_dates):\n",
    "    try:\n",
    "        txn_until_quater = vastxn_tc.loc[(vastxn_tc['CREATED_DATE'] >= eoq) & (vastxn_tc['CREATED_DATE'] < eoq_dates[i+1]), :]\n",
    "        quater = str(eoq_dates[i+1].to_period('Q'))\n",
    "        # Calculating RFM\n",
    "        quater_seg_dict[quater] = rfm_generator(txn_until_quater)[['USER_MAP_ID', 'SEGMENT', 'R_SCORE', 'F_SCORE', 'M_SCORE']]\n",
    "        print(i, quater, 'done')\n",
    "    except:\n",
    "        maxdate = pd.to_datetime(vastxn_tc['CREATED_DATE'].max().date())\n",
    "        fromdate = pd.to_datetime(maxdate) - pd.Timedelta(90, 'D')\n",
    "        txn90days = vastxn_tc.loc[(vastxn_tc['CREATED_DATE'] >= fromdate) & (vastxn_tc['CREATED_DATE'] <= maxdate), :]\n",
    "        quater = 'Q-UPDATED'\n",
    "        quater_seg_dict[quater] = rfm_generator(txn90days)[['USER_MAP_ID', 'SEGMENT', 'R_SCORE', 'F_SCORE', 'M_SCORE']]\n",
    "        print(i, quater, 'done')\n"
   ]
  },
  {
   "cell_type": "code",
   "execution_count": 11,
   "metadata": {},
   "outputs": [],
   "source": [
    "def get_no_txn(db1, db2):\n",
    "    '''\n",
    "    Function này giúp lấy ra những user_map_id có giao dịch trong db1 nhưng không có\n",
    "    GD trong db2, nếu không GD thì sẽ được fill là \"No TXN\". \n",
    "    Với:\n",
    "        + db1['USER_MAP_ID', 'SEGMENT']\n",
    "        + db2['USER_MAP_ID', 'SEGMENT']\n",
    "\n",
    "    Return là 1 dataframe có có 2 field: ['USER_MAP_ID', 'SEGMENT'], với: \n",
    "        + User_map_id: là những id có trong db1 nhưng không có trong db2\n",
    "        + Segment = \"No TXN\"\n",
    "    '''\n",
    "    df = pd.merge(\n",
    "        left = db1,\n",
    "        right = db2,\n",
    "        on=['USER_MAP_ID'],\n",
    "        how=\"outer\",\n",
    "        indicator=True\n",
    "    )\n",
    "    df = df[df['_merge']=='left_only']\n",
    "    df.drop(columns = ['SEGMENT_x', '_merge', 'R_SCORE_x', 'F_SCORE_x', 'M_SCORE_x'], inplace=True)\n",
    "    df.columns = ['USER_MAP_ID', 'SEGMENT', 'R_SCORE', 'F_SCORE', 'M_SCORE']\n",
    "    df['SEGMENT'] = df['SEGMENT'].fillna('No TXN')\n",
    "    \n",
    "    return df"
   ]
  },
  {
   "cell_type": "code",
   "execution_count": 12,
   "metadata": {},
   "outputs": [],
   "source": [
    "# Rà xoát những trường hợp có GD ở quý này nhưng không có GD ở những quý sau đó:\n",
    "quater_list = list(quater_seg_dict.keys())\n",
    "for i, quater1 in enumerate(quater_list):\n",
    "    for quater2 in quater_list[(i+1):]:\n",
    "        # Lấy những user_map_id có GD trong quý trước những k có gd trong những quý sau:\n",
    "        no_txn_df = get_no_txn(quater_seg_dict[quater1], quater_seg_dict[quater2])\n",
    "\n",
    "        # Nối những user_map_id này vào trong dataframe của các quý sau đó:\n",
    "        quater_seg_dict[quater2] = pd.concat([quater_seg_dict[quater2], no_txn_df], axis=0)\n",
    "        "
   ]
  },
  {
   "cell_type": "code",
   "execution_count": 13,
   "metadata": {},
   "outputs": [],
   "source": [
    "# Nối các bảng segment của từng quý theo chiều dọc\n",
    "segment_db_list = list(quater_seg_dict.values())\n",
    "cus_seg = pd.concat(segment_db_list, keys = quater_list, axis = 0).reset_index()\n",
    "# Drop cột level 1\n",
    "cus_seg.drop(columns='level_1', inplace=True)\n",
    "# Đổi tên level_0 => Quater\n",
    "cus_seg.rename(columns = {'level_0': 'QUATER'}, inplace=True)"
   ]
  },
  {
   "cell_type": "markdown",
   "metadata": {},
   "source": [
    "# Output dataset"
   ]
  },
  {
   "cell_type": "code",
   "execution_count": 111,
   "metadata": {},
   "outputs": [],
   "source": [
    "cus_seg.to_csv('./Export dataset/CUSTOMER_SEGMENT_220415.csv', index = False)\n"
   ]
  }
 ],
 "metadata": {
  "interpreter": {
   "hash": "122f1600ca7662637c7f4baec1f056943ffa614a168a98499baeeeaacd03a063"
  },
  "kernelspec": {
   "display_name": "Python 3.9.5 64-bit ('DA': conda)",
   "language": "python",
   "name": "python3"
  },
  "language_info": {
   "codemirror_mode": {
    "name": "ipython",
    "version": 3
   },
   "file_extension": ".py",
   "mimetype": "text/x-python",
   "name": "python",
   "nbconvert_exporter": "python",
   "pygments_lexer": "ipython3",
   "version": "3.9.7"
  },
  "orig_nbformat": 4
 },
 "nbformat": 4,
 "nbformat_minor": 2
}
